{
 "cells": [
  {
   "cell_type": "code",
   "execution_count": 77,
   "metadata": {},
   "outputs": [],
   "source": [
    "import seaborn as sea\n",
    "import scipy.stats as stats\n",
    "import matplotlib.pyplot as plt\n",
    "import pandas as pd\n",
    "import numpy as np"
   ]
  },
  {
   "cell_type": "code",
   "execution_count": 78,
   "metadata": {},
   "outputs": [
    {
     "name": "stderr",
     "output_type": "stream",
     "text": [
      "/tmp/ipykernel_14221/4010815132.py:15: SettingWithCopyWarning: \n",
      "A value is trying to be set on a copy of a slice from a DataFrame\n",
      "\n",
      "See the caveats in the documentation: https://pandas.pydata.org/pandas-docs/stable/user_guide/indexing.html#returning-a-view-versus-a-copy\n",
      "  energy_gains_benchmarks.rename(columns={'Percentual Difference': 'Energy Difference (%)'}, inplace=True)\n",
      "/tmp/ipykernel_14221/4010815132.py:16: SettingWithCopyWarning: \n",
      "A value is trying to be set on a copy of a slice from a DataFrame\n",
      "\n",
      "See the caveats in the documentation: https://pandas.pydata.org/pandas-docs/stable/user_guide/indexing.html#returning-a-view-versus-a-copy\n",
      "  time_gains_benchmarks.rename(columns={'Percentual Difference': 'Time Difference (%)'}, inplace=True)\n"
     ]
    }
   ],
   "source": [
    "%store -r energy_gains_benchmarks\n",
    "%store -r time_gains_benchmarks\n",
    "\n",
    "# Calculate the percentual difference for energy gains\n",
    "energy_gains_benchmarks['Percentual Difference'] = (energy_gains_benchmarks[15] - energy_gains_benchmarks[-1]) / energy_gains_benchmarks[-1] * 100\n",
    "\n",
    "# Calculate the percentual difference for time gains\n",
    "time_gains_benchmarks['Percentual Difference'] = (time_gains_benchmarks[15] - time_gains_benchmarks[-1]) / time_gains_benchmarks[-1] * 100\n",
    "\n",
    "# Now, keep only the percentual difference column for both datasets\n",
    "energy_gains_benchmarks = energy_gains_benchmarks[['Percentual Difference']]\n",
    "time_gains_benchmarks = time_gains_benchmarks[['Percentual Difference']]\n",
    "\n",
    "# Optionally, rename columns for clarity\n",
    "energy_gains_benchmarks.rename(columns={'Percentual Difference': 'Energy Difference (%)'}, inplace=True)\n",
    "time_gains_benchmarks.rename(columns={'Percentual Difference': 'Time Difference (%)'}, inplace=True)\n"
   ]
  },
  {
   "cell_type": "code",
   "execution_count": 79,
   "metadata": {},
   "outputs": [],
   "source": [
    "%store -r energy_gains_clbg\n",
    "%store -r time_gains_clbg"
   ]
  },
  {
   "cell_type": "code",
   "execution_count": 80,
   "metadata": {},
   "outputs": [
    {
     "name": "stdout",
     "output_type": "stream",
     "text": [
      "         Energy Gains CLBG (%)  Energy Gains Benchmarks (%)\n",
      "Haskell             -27.296671                    -7.772024\n",
      "Java                -13.150212                   -17.312118\n",
      "Python              -17.991940                   -12.480833\n"
     ]
    }
   ],
   "source": [
    "name_mapping = {\n",
    "    'nofib (Haskell)': 'Haskell',\n",
    "    'dacapo (Java)': 'Java',\n",
    "    'pyperformance (Python)': 'Python'\n",
    "}\n",
    "\n",
    "# Rename the indices in energy_gains_benchmarks\n",
    "energy_gains_benchmarks = energy_gains_benchmarks.rename(name_mapping)\n",
    "\n",
    "# Combine them into a DataFrame\n",
    "combined_df = pd.concat([energy_gains_clbg, energy_gains_benchmarks], axis=1)\n",
    "\n",
    "# Optionally, set column names for clarity\n",
    "combined_df.columns = ['Energy Gains CLBG (%)', 'Energy Gains Benchmarks (%)']\n",
    "\n",
    "print(combined_df)"
   ]
  },
  {
   "cell_type": "code",
   "execution_count": 81,
   "metadata": {},
   "outputs": [
    {
     "name": "stdout",
     "output_type": "stream",
     "text": [
      "         Time Gains CLBG (%)  Time Gains Benchmarks (%)\n",
      "Haskell            84.351948                  32.719613\n",
      "Java              109.987418                  83.759853\n",
      "Python            122.240756                  27.188295\n"
     ]
    }
   ],
   "source": [
    "name_mapping = {\n",
    "    'nofib (Haskell)': 'Haskell',\n",
    "    'dacapo (Java)': 'Java',\n",
    "    'pyperformance (Python)': 'Python'\n",
    "}\n",
    "\n",
    "# Rename the indices in time_gains_benchmarks\n",
    "time_gains_benchmarks = time_gains_benchmarks.rename(name_mapping)\n",
    "\n",
    "# Combine them into a DataFrame\n",
    "combined_df = pd.concat([time_gains_clbg, time_gains_benchmarks], axis=1)\n",
    "\n",
    "# Optionally, set column names for clarity\n",
    "combined_df.columns = ['Time Gains CLBG (%)', 'Time Gains Benchmarks (%)']\n",
    "\n",
    "print(combined_df)"
   ]
  }
 ],
 "metadata": {
  "kernelspec": {
   "display_name": "base",
   "language": "python",
   "name": "python3"
  },
  "language_info": {
   "codemirror_mode": {
    "name": "ipython",
    "version": 3
   },
   "file_extension": ".py",
   "mimetype": "text/x-python",
   "name": "python",
   "nbconvert_exporter": "python",
   "pygments_lexer": "ipython3",
   "version": "3.12.2"
  }
 },
 "nbformat": 4,
 "nbformat_minor": 2
}
